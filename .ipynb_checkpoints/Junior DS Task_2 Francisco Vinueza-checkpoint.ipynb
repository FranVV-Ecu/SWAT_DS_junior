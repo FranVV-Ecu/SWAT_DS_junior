{
 "cells": [
  {
   "cell_type": "markdown",
   "metadata": {},
   "source": [
    "## Task 2\n",
    "\n",
    "There is a function\n",
    "\n",
    "\n",
    "$f(x)=\\begin{cases}x, & x \\leq 2\\\\f(x-1)+f(x-2)+42, & otherwise\\end{cases} $\n",
    "\n",
    "\n",
    "\n",
    "Find f(223).\n",
    "As a result, please, send the value f(223) and the python code."
   ]
  },
  {
   "cell_type": "code",
   "execution_count": 1,
   "metadata": {},
   "outputs": [],
   "source": [
    "#Defining recursive function and sotre interation result in dictonary\n",
    "def func(n, store= {}):\n",
    "    if n <=2:\n",
    "        return n\n",
    "    try:\n",
    "        return store[n]\n",
    "    except KeyError:\n",
    "        result = func(n-1, store)+func(n-2, store)+42\n",
    "        store[n] = result\n",
    "        return result\n",
    "        "
   ]
  },
  {
   "cell_type": "code",
   "execution_count": 2,
   "metadata": {},
   "outputs": [
    {
     "data": {
      "text/plain": [
       "784196428695257600666115647252702998302526278045"
      ]
     },
     "execution_count": 2,
     "metadata": {},
     "output_type": "execute_result"
    }
   ],
   "source": [
    "func(223)"
   ]
  }
 ],
 "metadata": {
  "kernelspec": {
   "display_name": "Python 3",
   "language": "python",
   "name": "python3"
  },
  "language_info": {
   "codemirror_mode": {
    "name": "ipython",
    "version": 3
   },
   "file_extension": ".py",
   "mimetype": "text/x-python",
   "name": "python",
   "nbconvert_exporter": "python",
   "pygments_lexer": "ipython3",
   "version": "3.7.4"
  }
 },
 "nbformat": 4,
 "nbformat_minor": 2
}
