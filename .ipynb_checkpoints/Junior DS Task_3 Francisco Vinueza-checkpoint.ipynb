{
 "cells": [
  {
   "cell_type": "markdown",
   "metadata": {},
   "source": [
    "## Task 3\n",
    "\n",
    "There is a list of dictionaries. You need to sort it by a group of keys. Please provide at least 3\n",
    "ways (in Python) to do it (don't take into account either time or additional memory, etc.). All\n",
    "necessary keys exist in dictionaries.\n",
    "\n",
    "For example, [{'a': 1, 'b': 5, 'c': 3}, {'a':0, 'b': 4, 'c': 0}], the sorted list by keys (‘a’, ‘b’) is [{'a':0, 'b':\n",
    "4, 'c': 0}, {'a': 1, 'b': 5, 'c': 3}]\n",
    "\n",
    "IMPORTANT.\n",
    "\n",
    "• For this task list.sort() and sorted() functions are the same.\n",
    "\n",
    "• lambda dictionary: [dictionary[key] for key in keys] and operator.itemgetter(*keys) are\n",
    "the same also."
   ]
  },
  {
   "cell_type": "code",
   "execution_count": 1,
   "metadata": {},
   "outputs": [],
   "source": [
    "import pandas as pd\n",
    "dicts = [{'a': 1, 'b': 5, 'c': 3}, {'a':0, 'b': 4, 'c': 0}]"
   ]
  },
  {
   "cell_type": "code",
   "execution_count": 2,
   "metadata": {},
   "outputs": [
    {
     "data": {
      "text/plain": [
       "[{'a': 0, 'b': 4, 'c': 0}, {'a': 1, 'b': 5, 'c': 3}]"
      ]
     },
     "execution_count": 2,
     "metadata": {},
     "output_type": "execute_result"
    }
   ],
   "source": [
    "# Aproach 1\n",
    "from itertools import groupby \n",
    "from operator import itemgetter \n",
    "\n",
    "list_1 = sorted(dicts,  \n",
    "                  key = itemgetter('a','b') )\n",
    "  \n",
    "list_1"
   ]
  },
  {
   "cell_type": "code",
   "execution_count": 3,
   "metadata": {},
   "outputs": [
    {
     "data": {
      "text/plain": [
       "([{'a': 0, 'b': 4, 'c': 0}, {'a': 1, 'b': 5, 'c': 3}],\n",
       " [{'a': 0, 'b': 4, 'c': 0}, {'a': 1, 'b': 5, 'c': 3}])"
      ]
     },
     "execution_count": 3,
     "metadata": {},
     "output_type": "execute_result"
    }
   ],
   "source": [
    "#Aproach 2\n",
    "list_2 = sorted(dicts, key=lambda k: k['a'])\n",
    "list_b = sorted(list_2, key=lambda k: k['b'])\n",
    "list_2, list_b"
   ]
  },
  {
   "cell_type": "code",
   "execution_count": 6,
   "metadata": {},
   "outputs": [
    {
     "data": {
      "text/plain": [
       "[{'a': 0, 'b': 4, 'c': 0}, {'a': 1, 'b': 5, 'c': 3}]"
      ]
     },
     "execution_count": 6,
     "metadata": {},
     "output_type": "execute_result"
    }
   ],
   "source": [
    "#Aproach 3\n",
    "df = pd.DataFrame(dicts) # Convert dict to pandas data frame\n",
    "method_3 = df.sort_values('a') # Sorting values by column a\n",
    "sorted_list = method_3.T.to_dict() # From dataframe to dict is neccesary to transpote matriz\n",
    "Sorted_by_key = [value for key, value in sorted_list.items()]\n",
    "Sorted_by_key"
   ]
  }
 ],
 "metadata": {
  "kernelspec": {
   "display_name": "Python 3",
   "language": "python",
   "name": "python3"
  },
  "language_info": {
   "codemirror_mode": {
    "name": "ipython",
    "version": 3
   },
   "file_extension": ".py",
   "mimetype": "text/x-python",
   "name": "python",
   "nbconvert_exporter": "python",
   "pygments_lexer": "ipython3",
   "version": "3.7.4"
  }
 },
 "nbformat": 4,
 "nbformat_minor": 2
}
